{
 "cells": [
  {
   "cell_type": "markdown",
   "metadata": {},
   "source": [
    "# Tuberculosis Diagnosis using VGG16 based feature extractor and a custom classifier\n",
    "This notebook is written and executed by **Dr Raheel Siddiqi** on *11-10-2019*. The notebook presents an experiment to classify X-ray images as 'NORMAL' or 'containing manifestation of Tuberculosis (TB)' i.e. it is a binary classification problem. Transfer Learning is used to exploit the feature extractor of the *VGG16* pre-trained model. The dataset used is: [**China Set - The Shenzhen set - Chest X-ray Database**](https://www.kaggle.com/kmader/pulmonary-chest-xray-abnormalities). 10-fold cross validation is used to evaluate the model."
   ]
  },
  {
   "cell_type": "markdown",
   "metadata": {},
   "source": [
    "## TensorFlow and Keras version used"
   ]
  },
  {
   "cell_type": "code",
   "execution_count": 1,
   "metadata": {},
   "outputs": [
    {
     "name": "stdout",
     "output_type": "stream",
     "text": [
      "Tensorflow Version:  1.14.0\n",
      "Keras Version:  2.2.4-tf\n"
     ]
    }
   ],
   "source": [
    "import tensorflow as tf\n",
    "from tensorflow.python import keras\n",
    "\n",
    "print('Tensorflow Version: ', tf.__version__)\n",
    "print('Keras Version: ', keras.__version__)"
   ]
  },
  {
   "cell_type": "markdown",
   "metadata": {},
   "source": [
    "## Model Setup"
   ]
  },
  {
   "cell_type": "code",
   "execution_count": 2,
   "metadata": {},
   "outputs": [],
   "source": [
    "from tensorflow.python.keras.applications import VGG16\n",
    "import os\n",
    "import numpy as np\n",
    "from tensorflow.python.keras.preprocessing.image import ImageDataGenerator\n",
    "from tensorflow.python.keras import models\n",
    "from tensorflow.python.keras import layers\n",
    "from tensorflow.python.keras import optimizers\n",
    "\n",
    "def get_model():\n",
    "    model = models.Sequential()\n",
    "    conv_base=VGG16(weights='imagenet',include_top=False,input_shape=(100,100,3))\n",
    "    model.add(conv_base)\n",
    "    model.add(layers.Flatten())\n",
    "    model.add(layers.Dense(512, activation='relu'))\n",
    "    model.add(layers.Dense(1, activation='sigmoid'))\n",
    "    model.compile(loss='binary_crossentropy',optimizer=optimizers.Adam(lr=1e-4),metrics=['accuracy'])\n",
    "    return model"
   ]
  },
  {
   "cell_type": "code",
   "execution_count": 3,
   "metadata": {},
   "outputs": [],
   "source": [
    "image_height = 100\n",
    "image_width = 100\n",
    "batch_size = 4\n",
    "no_of_epochs  = 10"
   ]
  },
  {
   "cell_type": "markdown",
   "metadata": {},
   "source": [
    "## Dataset Preparation"
   ]
  },
  {
   "cell_type": "code",
   "execution_count": 4,
   "metadata": {},
   "outputs": [
    {
     "name": "stderr",
     "output_type": "stream",
     "text": [
      "100%|██████████| 663/663 [01:11<00:00,  9.29it/s]"
     ]
    },
    {
     "name": "stdout",
     "output_type": "stream",
     "text": [
      "662\n"
     ]
    },
    {
     "name": "stderr",
     "output_type": "stream",
     "text": [
      "\n"
     ]
    }
   ],
   "source": [
    "from tqdm import tqdm\n",
    "import numpy as np\n",
    "import matplotlib.pyplot as plt\n",
    "import os\n",
    "import cv2\n",
    "%matplotlib inline\n",
    "\n",
    "DATADIR = '/kaggle/input/pulmonary-chest-xray-abnormalities/ChinaSet_AllFiles/ChinaSet_AllFiles/CXR_png'\n",
    "data=[]\n",
    "for img in tqdm(os.listdir(DATADIR)):\n",
    "    try:\n",
    "        img_array = cv2.imread(os.path.join(DATADIR,img))\n",
    "        img_array = cv2.resize(img_array, (image_height, image_width))\n",
    "        img_array = cv2.cvtColor(img_array, cv2.COLOR_BGR2RGB)        \n",
    "        img_array = img_array.astype(np.float32)/255.\n",
    "        if img[-5]=='0':\n",
    "            data.append([img_array, 0])\n",
    "        else:\n",
    "            data.append([img_array, 1])\n",
    "    except Exception as e:   \n",
    "            pass\n",
    "print(len(data))"
   ]
  },
  {
   "cell_type": "code",
   "execution_count": 5,
   "metadata": {},
   "outputs": [
    {
     "name": "stdout",
     "output_type": "stream",
     "text": [
      "0\n",
      "1\n",
      "1\n",
      "0\n",
      "1\n",
      "0\n",
      "0\n",
      "1\n",
      "1\n",
      "1\n"
     ]
    }
   ],
   "source": [
    "import random\n",
    "\n",
    "random.shuffle(data)\n",
    "for sample in data[:10]:\n",
    "    print(sample[1])"
   ]
  },
  {
   "cell_type": "code",
   "execution_count": 6,
   "metadata": {},
   "outputs": [
    {
     "name": "stdout",
     "output_type": "stream",
     "text": [
      "(662, 100, 100, 3)\n"
     ]
    }
   ],
   "source": [
    "X = []\n",
    "y = []\n",
    "\n",
    "for features,label in data:\n",
    "    X.append(features)\n",
    "    y.append(label)\n",
    "\n",
    "X = np.array(X).reshape(-1, image_width, image_height, 3)\n",
    "print(X.shape)"
   ]
  },
  {
   "cell_type": "markdown",
   "metadata": {},
   "source": [
    "## 10-Fold Cross Validation"
   ]
  },
  {
   "cell_type": "code",
   "execution_count": 7,
   "metadata": {},
   "outputs": [
    {
     "name": "stdout",
     "output_type": "stream",
     "text": [
      "Downloading data from https://github.com/fchollet/deep-learning-models/releases/download/v0.1/vgg16_weights_tf_dim_ordering_tf_kernels_notop.h5\n",
      "58892288/58889256 [==============================] - 2s 0us/step\n",
      "Epoch 1/10\n",
      "596/596 [==============================] - 5s 9ms/sample - loss: 0.6546 - acc: 0.6493\n",
      "Epoch 2/10\n",
      "596/596 [==============================] - 3s 6ms/sample - loss: 0.5001 - acc: 0.8070\n",
      "Epoch 3/10\n",
      "596/596 [==============================] - 3s 6ms/sample - loss: 0.4594 - acc: 0.8104\n",
      "Epoch 4/10\n",
      "596/596 [==============================] - 3s 6ms/sample - loss: 0.4490 - acc: 0.8339\n",
      "Epoch 5/10\n",
      "596/596 [==============================] - 3s 6ms/sample - loss: 0.4171 - acc: 0.8389\n",
      "Epoch 6/10\n",
      "596/596 [==============================] - 3s 6ms/sample - loss: 0.3893 - acc: 0.8456\n",
      "Epoch 7/10\n",
      "596/596 [==============================] - 3s 6ms/sample - loss: 0.3810 - acc: 0.8557\n",
      "Epoch 8/10\n",
      "596/596 [==============================] - 3s 6ms/sample - loss: 0.3593 - acc: 0.8607\n",
      "Epoch 9/10\n",
      "596/596 [==============================] - 3s 6ms/sample - loss: 0.3514 - acc: 0.8607\n",
      "Epoch 10/10\n",
      "596/596 [==============================] - 3s 6ms/sample - loss: 0.3289 - acc: 0.8658\n",
      "66/66 [==============================] - 0s 5ms/sample - loss: 0.5518 - acc: 0.8030\n",
      "Epoch 1/10\n",
      "596/596 [==============================] - 4s 7ms/sample - loss: 0.6065 - acc: 0.6930\n",
      "Epoch 2/10\n",
      "596/596 [==============================] - 3s 6ms/sample - loss: 0.5258 - acc: 0.7802\n",
      "Epoch 3/10\n",
      "596/596 [==============================] - 3s 6ms/sample - loss: 0.4695 - acc: 0.8054\n",
      "Epoch 4/10\n",
      "596/596 [==============================] - 3s 6ms/sample - loss: 0.4229 - acc: 0.8322\n",
      "Epoch 5/10\n",
      "596/596 [==============================] - 3s 6ms/sample - loss: 0.3906 - acc: 0.8523\n",
      "Epoch 6/10\n",
      "596/596 [==============================] - 3s 6ms/sample - loss: 0.3713 - acc: 0.8406\n",
      "Epoch 7/10\n",
      "596/596 [==============================] - 3s 6ms/sample - loss: 0.3541 - acc: 0.8674\n",
      "Epoch 8/10\n",
      "596/596 [==============================] - 3s 6ms/sample - loss: 0.3441 - acc: 0.8591\n",
      "Epoch 9/10\n",
      "596/596 [==============================] - 3s 6ms/sample - loss: 0.2734 - acc: 0.8909\n",
      "Epoch 10/10\n",
      "596/596 [==============================] - 3s 6ms/sample - loss: 0.2316 - acc: 0.9094\n",
      "66/66 [==============================] - 0s 2ms/sample - loss: 0.7150 - acc: 0.8182\n",
      "Epoch 1/10\n",
      "596/596 [==============================] - 4s 7ms/sample - loss: 0.7131 - acc: 0.5973\n",
      "Epoch 2/10\n",
      "596/596 [==============================] - 3s 6ms/sample - loss: 0.6254 - acc: 0.6795 1s - l\n",
      "Epoch 3/10\n",
      "596/596 [==============================] - 3s 6ms/sample - loss: 0.5607 - acc: 0.7617\n",
      "Epoch 4/10\n",
      "596/596 [==============================] - 3s 6ms/sample - loss: 0.5405 - acc: 0.7651 \n",
      "Epoch 5/10\n",
      "596/596 [==============================] - 3s 6ms/sample - loss: 0.4870 - acc: 0.7953\n",
      "Epoch 6/10\n",
      "596/596 [==============================] - 3s 6ms/sample - loss: 0.4672 - acc: 0.8205\n",
      "Epoch 7/10\n",
      "596/596 [==============================] - 3s 6ms/sample - loss: 0.5061 - acc: 0.7919\n",
      "Epoch 8/10\n",
      "596/596 [==============================] - 3s 6ms/sample - loss: 0.4268 - acc: 0.8238\n",
      "Epoch 9/10\n",
      "596/596 [==============================] - 3s 6ms/sample - loss: 0.4192 - acc: 0.8322\n",
      "Epoch 10/10\n",
      "596/596 [==============================] - 3s 6ms/sample - loss: 0.3954 - acc: 0.8490\n",
      "66/66 [==============================] - 0s 3ms/sample - loss: 0.3867 - acc: 0.8182\n",
      "Epoch 1/10\n",
      "596/596 [==============================] - 4s 7ms/sample - loss: 0.7034 - acc: 0.5604\n",
      "Epoch 2/10\n",
      "596/596 [==============================] - 3s 6ms/sample - loss: 0.5600 - acc: 0.7567\n",
      "Epoch 3/10\n",
      "596/596 [==============================] - 3s 6ms/sample - loss: 0.4874 - acc: 0.8037\n",
      "Epoch 4/10\n",
      "596/596 [==============================] - 3s 6ms/sample - loss: 0.4573 - acc: 0.8154\n",
      "Epoch 5/10\n",
      "596/596 [==============================] - 3s 6ms/sample - loss: 0.4447 - acc: 0.8188\n",
      "Epoch 6/10\n",
      "596/596 [==============================] - 3s 6ms/sample - loss: 0.4435 - acc: 0.8020\n",
      "Epoch 7/10\n",
      "596/596 [==============================] - 3s 6ms/sample - loss: 0.4190 - acc: 0.8356\n",
      "Epoch 8/10\n",
      "596/596 [==============================] - 3s 6ms/sample - loss: 0.3814 - acc: 0.8423\n",
      "Epoch 9/10\n",
      "596/596 [==============================] - 3s 6ms/sample - loss: 0.4808 - acc: 0.8070\n",
      "Epoch 10/10\n",
      "596/596 [==============================] - 3s 6ms/sample - loss: 0.4348 - acc: 0.8339\n",
      "66/66 [==============================] - 0s 3ms/sample - loss: 0.3133 - acc: 0.8636\n",
      "Epoch 1/10\n",
      "596/596 [==============================] - 4s 7ms/sample - loss: 0.6836 - acc: 0.6191\n",
      "Epoch 2/10\n",
      "596/596 [==============================] - 3s 6ms/sample - loss: 0.5259 - acc: 0.7869\n",
      "Epoch 3/10\n",
      "596/596 [==============================] - 3s 6ms/sample - loss: 0.4748 - acc: 0.8138\n",
      "Epoch 4/10\n",
      "596/596 [==============================] - 3s 6ms/sample - loss: 0.4638 - acc: 0.8121\n",
      "Epoch 5/10\n",
      "596/596 [==============================] - 3s 6ms/sample - loss: 0.4089 - acc: 0.8339\n",
      "Epoch 6/10\n",
      "596/596 [==============================] - 3s 6ms/sample - loss: 0.4084 - acc: 0.8423\n",
      "Epoch 7/10\n",
      "596/596 [==============================] - 3s 6ms/sample - loss: 0.3760 - acc: 0.8356\n",
      "Epoch 8/10\n",
      "596/596 [==============================] - 3s 6ms/sample - loss: 0.3422 - acc: 0.8708\n",
      "Epoch 9/10\n",
      "596/596 [==============================] - 3s 6ms/sample - loss: 0.3126 - acc: 0.8691\n",
      "Epoch 10/10\n",
      "596/596 [==============================] - 3s 6ms/sample - loss: 0.3125 - acc: 0.8758\n",
      "66/66 [==============================] - 0s 4ms/sample - loss: 0.5111 - acc: 0.8030\n",
      "Epoch 1/10\n",
      "596/596 [==============================] - 4s 7ms/sample - loss: 0.6834 - acc: 0.5956\n",
      "Epoch 2/10\n",
      "596/596 [==============================] - 3s 6ms/sample - loss: 0.5644 - acc: 0.7399\n",
      "Epoch 3/10\n",
      "596/596 [==============================] - 3s 6ms/sample - loss: 0.4990 - acc: 0.8087\n",
      "Epoch 4/10\n",
      "596/596 [==============================] - 3s 6ms/sample - loss: 0.4452 - acc: 0.8272\n",
      "Epoch 5/10\n",
      "596/596 [==============================] - 3s 6ms/sample - loss: 0.4428 - acc: 0.8272\n",
      "Epoch 6/10\n",
      "596/596 [==============================] - 3s 6ms/sample - loss: 0.4344 - acc: 0.8289\n",
      "Epoch 7/10\n",
      "596/596 [==============================] - 3s 6ms/sample - loss: 0.4069 - acc: 0.8372\n",
      "Epoch 8/10\n",
      "596/596 [==============================] - 3s 6ms/sample - loss: 0.3806 - acc: 0.8473\n",
      "Epoch 9/10\n",
      "596/596 [==============================] - 3s 6ms/sample - loss: 0.3415 - acc: 0.8624\n",
      "Epoch 10/10\n",
      "596/596 [==============================] - 3s 6ms/sample - loss: 0.3481 - acc: 0.8423\n",
      "66/66 [==============================] - 0s 4ms/sample - loss: 0.3801 - acc: 0.8485\n",
      "Epoch 1/10\n",
      "596/596 [==============================] - 4s 7ms/sample - loss: 0.6593 - acc: 0.6275\n",
      "Epoch 2/10\n",
      "596/596 [==============================] - 4s 6ms/sample - loss: 0.5708 - acc: 0.7215\n",
      "Epoch 3/10\n",
      "596/596 [==============================] - 3s 6ms/sample - loss: 0.5821 - acc: 0.7181\n",
      "Epoch 4/10\n",
      "596/596 [==============================] - 3s 6ms/sample - loss: 0.4739 - acc: 0.8087\n",
      "Epoch 5/10\n",
      "596/596 [==============================] - 3s 6ms/sample - loss: 0.4647 - acc: 0.8154\n",
      "Epoch 6/10\n",
      "596/596 [==============================] - 3s 6ms/sample - loss: 0.4356 - acc: 0.8339\n",
      "Epoch 7/10\n",
      "596/596 [==============================] - 3s 6ms/sample - loss: 0.4294 - acc: 0.8356\n",
      "Epoch 8/10\n",
      "596/596 [==============================] - 3s 6ms/sample - loss: 0.4038 - acc: 0.8406\n",
      "Epoch 9/10\n",
      "596/596 [==============================] - 3s 6ms/sample - loss: 0.3862 - acc: 0.8406\n",
      "Epoch 10/10\n",
      "596/596 [==============================] - 3s 6ms/sample - loss: 0.3439 - acc: 0.8624\n",
      "66/66 [==============================] - 0s 4ms/sample - loss: 0.4945 - acc: 0.8333\n",
      "Epoch 1/10\n",
      "596/596 [==============================] - 5s 8ms/sample - loss: 0.6186 - acc: 0.6812\n",
      "Epoch 2/10\n",
      "596/596 [==============================] - 4s 6ms/sample - loss: 0.5143 - acc: 0.7819\n",
      "Epoch 3/10\n",
      "596/596 [==============================] - 4s 6ms/sample - loss: 0.4341 - acc: 0.8238\n",
      "Epoch 4/10\n",
      "596/596 [==============================] - 4s 6ms/sample - loss: 0.4220 - acc: 0.8272\n",
      "Epoch 5/10\n",
      "596/596 [==============================] - 4s 6ms/sample - loss: 0.4175 - acc: 0.8423\n",
      "Epoch 6/10\n",
      "596/596 [==============================] - 4s 6ms/sample - loss: 0.3889 - acc: 0.8339\n",
      "Epoch 7/10\n"
     ]
    },
    {
     "name": "stdout",
     "output_type": "stream",
     "text": [
      "596/596 [==============================] - 4s 6ms/sample - loss: 0.3624 - acc: 0.8607\n",
      "Epoch 8/10\n",
      "596/596 [==============================] - 4s 6ms/sample - loss: 0.3483 - acc: 0.8674\n",
      "Epoch 9/10\n",
      "596/596 [==============================] - 4s 6ms/sample - loss: 0.2965 - acc: 0.8674\n",
      "Epoch 10/10\n",
      "596/596 [==============================] - 4s 6ms/sample - loss: 0.2845 - acc: 0.8775\n",
      "66/66 [==============================] - 0s 6ms/sample - loss: 0.5504 - acc: 0.7727\n",
      "Epoch 1/10\n",
      "596/596 [==============================] - 5s 8ms/sample - loss: 0.6538 - acc: 0.6342\n",
      "Epoch 2/10\n",
      "596/596 [==============================] - 4s 6ms/sample - loss: 0.5038 - acc: 0.7953\n",
      "Epoch 3/10\n",
      "596/596 [==============================] - 4s 6ms/sample - loss: 0.4822 - acc: 0.8037\n",
      "Epoch 4/10\n",
      "596/596 [==============================] - 4s 6ms/sample - loss: 0.4458 - acc: 0.8221\n",
      "Epoch 5/10\n",
      "596/596 [==============================] - 4s 6ms/sample - loss: 0.4304 - acc: 0.8272\n",
      "Epoch 6/10\n",
      "596/596 [==============================] - 4s 6ms/sample - loss: 0.4030 - acc: 0.8372\n",
      "Epoch 7/10\n",
      "596/596 [==============================] - 4s 6ms/sample - loss: 0.4110 - acc: 0.8356\n",
      "Epoch 8/10\n",
      "596/596 [==============================] - 4s 6ms/sample - loss: 0.3589 - acc: 0.8607\n",
      "Epoch 9/10\n",
      "596/596 [==============================] - 4s 6ms/sample - loss: 0.3514 - acc: 0.8607\n",
      "Epoch 10/10\n",
      "596/596 [==============================] - 4s 6ms/sample - loss: 0.3196 - acc: 0.8792\n",
      "66/66 [==============================] - 0s 6ms/sample - loss: 0.3737 - acc: 0.8485\n",
      "Epoch 1/10\n",
      "596/596 [==============================] - 5s 8ms/sample - loss: 0.6555 - acc: 0.6107\n",
      "Epoch 2/10\n",
      "596/596 [==============================] - 4s 6ms/sample - loss: 0.5872 - acc: 0.7047\n",
      "Epoch 3/10\n",
      "596/596 [==============================] - 4s 6ms/sample - loss: 0.4716 - acc: 0.8121\n",
      "Epoch 4/10\n",
      "596/596 [==============================] - 4s 6ms/sample - loss: 0.4343 - acc: 0.8339\n",
      "Epoch 5/10\n",
      "596/596 [==============================] - 4s 6ms/sample - loss: 0.4242 - acc: 0.8440\n",
      "Epoch 6/10\n",
      "596/596 [==============================] - 4s 6ms/sample - loss: 0.4124 - acc: 0.8406\n",
      "Epoch 7/10\n",
      "596/596 [==============================] - 4s 6ms/sample - loss: 0.3951 - acc: 0.8356\n",
      "Epoch 8/10\n",
      "596/596 [==============================] - 4s 6ms/sample - loss: 0.3542 - acc: 0.8523\n",
      "Epoch 9/10\n",
      "596/596 [==============================] - 4s 6ms/sample - loss: 0.3191 - acc: 0.8758\n",
      "Epoch 10/10\n",
      "596/596 [==============================] - 4s 6ms/sample - loss: 0.3525 - acc: 0.8473\n",
      "66/66 [==============================] - 0s 7ms/sample - loss: 0.3646 - acc: 0.8182\n"
     ]
    }
   ],
   "source": [
    "k=10\n",
    "num_validation_samples=len(X)//k\n",
    "validation_scores=[]\n",
    "for fold in range(k):\n",
    "    validation_data=X[num_validation_samples*fold:num_validation_samples*(fold+1)]\n",
    "    validation_labels=y[num_validation_samples*fold:num_validation_samples*(fold+1)]\n",
    "    if fold==0:\n",
    "        training_data=X[num_validation_samples*(fold+1):]\n",
    "        training_labels=y[num_validation_samples*(fold+1):]    \n",
    "    else:\n",
    "        training_data=np.append(X[:num_validation_samples*fold], X[num_validation_samples*(fold+1):],axis=0)\n",
    "        training_labels=np.append(y[:num_validation_samples*fold], y[num_validation_samples*(fold+1):],axis=0)\n",
    "    model=get_model()\n",
    "    model.fit(training_data,training_labels,batch_size=batch_size,epochs=no_of_epochs) # 10 epochs per model\n",
    "    validation_score=model.evaluate(validation_data,validation_labels)\n",
    "    validation_scores.append(validation_score[1])"
   ]
  },
  {
   "cell_type": "markdown",
   "metadata": {},
   "source": [
    "## Average Validation Score"
   ]
  },
  {
   "cell_type": "code",
   "execution_count": 8,
   "metadata": {},
   "outputs": [
    {
     "name": "stdout",
     "output_type": "stream",
     "text": [
      "Average Validation Score:  0.8227273\n"
     ]
    }
   ],
   "source": [
    "print('Average Validation Score: ', np.average(validation_scores))"
   ]
  }
 ],
 "metadata": {
  "kernelspec": {
   "display_name": "Python 3",
   "language": "python",
   "name": "python3"
  },
  "language_info": {
   "codemirror_mode": {
    "name": "ipython",
    "version": 3
   },
   "file_extension": ".py",
   "mimetype": "text/x-python",
   "name": "python",
   "nbconvert_exporter": "python",
   "pygments_lexer": "ipython3",
   "version": "3.6.8"
  }
 },
 "nbformat": 4,
 "nbformat_minor": 1
}
